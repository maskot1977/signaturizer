{
  "nbformat": 4,
  "nbformat_minor": 0,
  "metadata": {
    "colab": {
      "name": "signaturizer.ipynb",
      "provenance": [],
      "collapsed_sections": [],
      "toc_visible": true
    },
    "kernelspec": {
      "name": "python3",
      "display_name": "Python 3"
    }
  },
  "cells": [
    {
      "cell_type": "markdown",
      "metadata": {
        "id": "Se3M6z2uQIGU",
        "colab_type": "text"
      },
      "source": [
        "# Setup\n"
      ]
    },
    {
      "cell_type": "markdown",
      "metadata": {
        "id": "DIMxNnjfQU2G",
        "colab_type": "text"
      },
      "source": [
        "Google’s updated their Colab instances to use TensorFlow 2.X by default. The last stable version of the Signaturizers is still on TensorFlow 1.X."
      ]
    },
    {
      "cell_type": "code",
      "metadata": {
        "id": "Z605c7pvP3tx",
        "colab_type": "code",
        "colab": {
          "base_uri": "https://localhost:8080/",
          "height": 34
        },
        "outputId": "905b68b9-3f58-4677-c21d-05fb5af8c2db"
      },
      "source": [
        "%tensorflow_version 1.x"
      ],
      "execution_count": 1,
      "outputs": [
        {
          "output_type": "stream",
          "text": [
            "TensorFlow 1.x selected.\n"
          ],
          "name": "stdout"
        }
      ]
    },
    {
      "cell_type": "markdown",
      "metadata": {
        "id": "1PA55FW9M4x1",
        "colab_type": "text"
      },
      "source": [
        "## Install the _signaturizer_ package"
      ]
    },
    {
      "cell_type": "code",
      "metadata": {
        "id": "xpnKeewTM9yT",
        "colab_type": "code",
        "colab": {
          "base_uri": "https://localhost:8080/",
          "height": 732
        },
        "outputId": "91f45a7e-3237-4c4f-f1d0-09abf5711728"
      },
      "source": [
        "!pip install signaturizer"
      ],
      "execution_count": 2,
      "outputs": [
        {
          "output_type": "stream",
          "text": [
            "Collecting signaturizer\n",
            "  Downloading https://files.pythonhosted.org/packages/22/01/762279623fb6567a0e1ea7432a3749cded401adc0f716f10c293c6d81185/signaturizer-1.1.1.tar.gz\n",
            "Requirement already satisfied: tensorflow in /tensorflow-1.15.2/python3.6 (from signaturizer) (1.15.2)\n",
            "Requirement already satisfied: tensorflow_hub in /usr/local/lib/python3.6/dist-packages (from signaturizer) (0.8.0)\n",
            "Requirement already satisfied: numpy in /usr/local/lib/python3.6/dist-packages (from signaturizer) (1.18.5)\n",
            "Requirement already satisfied: h5py in /usr/local/lib/python3.6/dist-packages (from signaturizer) (2.10.0)\n",
            "Requirement already satisfied: keras-applications>=1.0.8 in /usr/local/lib/python3.6/dist-packages (from tensorflow->signaturizer) (1.0.8)\n",
            "Requirement already satisfied: protobuf>=3.6.1 in /usr/local/lib/python3.6/dist-packages (from tensorflow->signaturizer) (3.10.0)\n",
            "Requirement already satisfied: termcolor>=1.1.0 in /usr/local/lib/python3.6/dist-packages (from tensorflow->signaturizer) (1.1.0)\n",
            "Requirement already satisfied: wheel>=0.26; python_version >= \"3\" in /usr/local/lib/python3.6/dist-packages (from tensorflow->signaturizer) (0.34.2)\n",
            "Requirement already satisfied: astor>=0.6.0 in /usr/local/lib/python3.6/dist-packages (from tensorflow->signaturizer) (0.8.1)\n",
            "Requirement already satisfied: tensorboard<1.16.0,>=1.15.0 in /tensorflow-1.15.2/python3.6 (from tensorflow->signaturizer) (1.15.0)\n",
            "Requirement already satisfied: grpcio>=1.8.6 in /usr/local/lib/python3.6/dist-packages (from tensorflow->signaturizer) (1.30.0)\n",
            "Requirement already satisfied: wrapt>=1.11.1 in /usr/local/lib/python3.6/dist-packages (from tensorflow->signaturizer) (1.12.1)\n",
            "Requirement already satisfied: absl-py>=0.7.0 in /usr/local/lib/python3.6/dist-packages (from tensorflow->signaturizer) (0.9.0)\n",
            "Requirement already satisfied: opt-einsum>=2.3.2 in /usr/local/lib/python3.6/dist-packages (from tensorflow->signaturizer) (3.2.1)\n",
            "Requirement already satisfied: google-pasta>=0.1.6 in /usr/local/lib/python3.6/dist-packages (from tensorflow->signaturizer) (0.2.0)\n",
            "Requirement already satisfied: six>=1.10.0 in /usr/local/lib/python3.6/dist-packages (from tensorflow->signaturizer) (1.12.0)\n",
            "Collecting gast==0.2.2\n",
            "  Downloading https://files.pythonhosted.org/packages/4e/35/11749bf99b2d4e3cceb4d55ca22590b0d7c2c62b9de38ac4a4a7f4687421/gast-0.2.2.tar.gz\n",
            "Requirement already satisfied: keras-preprocessing>=1.0.5 in /usr/local/lib/python3.6/dist-packages (from tensorflow->signaturizer) (1.1.2)\n",
            "Requirement already satisfied: tensorflow-estimator==1.15.1 in /tensorflow-1.15.2/python3.6 (from tensorflow->signaturizer) (1.15.1)\n",
            "Requirement already satisfied: setuptools in /usr/local/lib/python3.6/dist-packages (from protobuf>=3.6.1->tensorflow->signaturizer) (49.1.0)\n",
            "Requirement already satisfied: markdown>=2.6.8 in /usr/local/lib/python3.6/dist-packages (from tensorboard<1.16.0,>=1.15.0->tensorflow->signaturizer) (3.2.2)\n",
            "Requirement already satisfied: werkzeug>=0.11.15 in /usr/local/lib/python3.6/dist-packages (from tensorboard<1.16.0,>=1.15.0->tensorflow->signaturizer) (1.0.1)\n",
            "Requirement already satisfied: importlib-metadata; python_version < \"3.8\" in /usr/local/lib/python3.6/dist-packages (from markdown>=2.6.8->tensorboard<1.16.0,>=1.15.0->tensorflow->signaturizer) (1.7.0)\n",
            "Requirement already satisfied: zipp>=0.5 in /usr/local/lib/python3.6/dist-packages (from importlib-metadata; python_version < \"3.8\"->markdown>=2.6.8->tensorboard<1.16.0,>=1.15.0->tensorflow->signaturizer) (3.1.0)\n",
            "Building wheels for collected packages: signaturizer, gast\n",
            "  Building wheel for signaturizer (setup.py) ... \u001b[?25l\u001b[?25hdone\n",
            "  Created wheel for signaturizer: filename=signaturizer-1.1.1-cp36-none-any.whl size=11324 sha256=c1171aa7bc3d9d128b7498f09a46a89cc84ae321e5b04ca5e4048be07082d753\n",
            "  Stored in directory: /root/.cache/pip/wheels/e8/53/e7/0708fde3b57c6a723654e239c995d156df5d6815058010c79f\n",
            "  Building wheel for gast (setup.py) ... \u001b[?25l\u001b[?25hdone\n",
            "  Created wheel for gast: filename=gast-0.2.2-cp36-none-any.whl size=7540 sha256=f129cc2081764c5acbdcb889a30ebe07ef574b232cd6556d3daa25dcb41cc703\n",
            "  Stored in directory: /root/.cache/pip/wheels/5c/2e/7e/a1d4d4fcebe6c381f378ce7743a3ced3699feb89bcfbdadadd\n",
            "Successfully built signaturizer gast\n",
            "Installing collected packages: signaturizer, gast\n",
            "  Found existing installation: gast 0.3.3\n",
            "    Uninstalling gast-0.3.3:\n",
            "      Successfully uninstalled gast-0.3.3\n",
            "Successfully installed gast-0.2.2 signaturizer-1.1.1\n"
          ],
          "name": "stdout"
        }
      ]
    },
    {
      "cell_type": "markdown",
      "metadata": {
        "id": "B4OHQNcBMvp_",
        "colab_type": "text"
      },
      "source": [
        "## Install RDKit"
      ]
    },
    {
      "cell_type": "code",
      "metadata": {
        "id": "ivgaJ2f5M1x7",
        "colab_type": "code",
        "colab": {
          "base_uri": "https://localhost:8080/",
          "height": 1000
        },
        "outputId": "a2b35479-ce11-47ae-b13c-e8f39ace895d"
      },
      "source": [
        "!wget -c https://repo.continuum.io/miniconda/Miniconda3-latest-Linux-x86_64.sh\n",
        "!chmod +x Miniconda3-latest-Linux-x86_64.sh\n",
        "!bash ./Miniconda3-latest-Linux-x86_64.sh -b -f -p /usr/local\n",
        "!conda install -q -y -c conda-forge rdkit"
      ],
      "execution_count": 3,
      "outputs": [
        {
          "output_type": "stream",
          "text": [
            "--2020-07-14 13:37:41--  https://repo.continuum.io/miniconda/Miniconda3-latest-Linux-x86_64.sh\n",
            "Resolving repo.continuum.io (repo.continuum.io)... 104.18.201.79, 104.18.200.79, 2606:4700::6812:c84f, ...\n",
            "Connecting to repo.continuum.io (repo.continuum.io)|104.18.201.79|:443... connected.\n",
            "HTTP request sent, awaiting response... 301 Moved Permanently\n",
            "Location: https://repo.anaconda.com/miniconda/Miniconda3-latest-Linux-x86_64.sh [following]\n",
            "--2020-07-14 13:37:42--  https://repo.anaconda.com/miniconda/Miniconda3-latest-Linux-x86_64.sh\n",
            "Resolving repo.anaconda.com (repo.anaconda.com)... 104.16.130.3, 104.16.131.3, 2606:4700::6810:8303, ...\n",
            "Connecting to repo.anaconda.com (repo.anaconda.com)|104.16.130.3|:443... connected.\n",
            "HTTP request sent, awaiting response... 200 OK\n",
            "Length: 88867207 (85M) [application/x-sh]\n",
            "Saving to: ‘Miniconda3-latest-Linux-x86_64.sh’\n",
            "\n",
            "\r          Miniconda   0%[                    ]       0  --.-KB/s               \r         Miniconda3  32%[=====>              ]  27.15M   136MB/s               \r        Miniconda3-  83%[===============>    ]  70.61M   177MB/s               \rMiniconda3-latest-L 100%[===================>]  84.75M   183MB/s    in 0.5s    \n",
            "\n",
            "2020-07-14 13:37:42 (183 MB/s) - ‘Miniconda3-latest-Linux-x86_64.sh’ saved [88867207/88867207]\n",
            "\n",
            "PREFIX=/usr/local\n",
            "Unpacking payload ...\n",
            "Collecting package metadata (current_repodata.json): - \b\b\\ \b\b| \b\bdone\n",
            "Solving environment: - \b\b\\ \b\bdone\n",
            "\n",
            "## Package Plan ##\n",
            "\n",
            "  environment location: /usr/local\n",
            "\n",
            "  added / updated specs:\n",
            "    - _libgcc_mutex==0.1=main\n",
            "    - ca-certificates==2020.1.1=0\n",
            "    - certifi==2020.4.5.1=py37_0\n",
            "    - cffi==1.14.0=py37he30daa8_1\n",
            "    - chardet==3.0.4=py37_1003\n",
            "    - conda-package-handling==1.6.1=py37h7b6447c_0\n",
            "    - conda==4.8.3=py37_0\n",
            "    - cryptography==2.9.2=py37h1ba5d50_0\n",
            "    - idna==2.9=py_1\n",
            "    - ld_impl_linux-64==2.33.1=h53a641e_7\n",
            "    - libedit==3.1.20181209=hc058e9b_0\n",
            "    - libffi==3.3=he6710b0_1\n",
            "    - libgcc-ng==9.1.0=hdf63c60_0\n",
            "    - libstdcxx-ng==9.1.0=hdf63c60_0\n",
            "    - ncurses==6.2=he6710b0_1\n",
            "    - openssl==1.1.1g=h7b6447c_0\n",
            "    - pip==20.0.2=py37_3\n",
            "    - pycosat==0.6.3=py37h7b6447c_0\n",
            "    - pycparser==2.20=py_0\n",
            "    - pyopenssl==19.1.0=py37_0\n",
            "    - pysocks==1.7.1=py37_0\n",
            "    - python==3.7.7=hcff3b4d_5\n",
            "    - readline==8.0=h7b6447c_0\n",
            "    - requests==2.23.0=py37_0\n",
            "    - ruamel_yaml==0.15.87=py37h7b6447c_0\n",
            "    - setuptools==46.4.0=py37_0\n",
            "    - six==1.14.0=py37_0\n",
            "    - sqlite==3.31.1=h62c20be_1\n",
            "    - tk==8.6.8=hbc83047_0\n",
            "    - tqdm==4.46.0=py_0\n",
            "    - urllib3==1.25.8=py37_0\n",
            "    - wheel==0.34.2=py37_0\n",
            "    - xz==5.2.5=h7b6447c_0\n",
            "    - yaml==0.1.7=had09818_2\n",
            "    - zlib==1.2.11=h7b6447c_3\n",
            "\n",
            "\n",
            "The following NEW packages will be INSTALLED:\n",
            "\n",
            "  _libgcc_mutex      pkgs/main/linux-64::_libgcc_mutex-0.1-main\n",
            "  ca-certificates    pkgs/main/linux-64::ca-certificates-2020.1.1-0\n",
            "  certifi            pkgs/main/linux-64::certifi-2020.4.5.1-py37_0\n",
            "  cffi               pkgs/main/linux-64::cffi-1.14.0-py37he30daa8_1\n",
            "  chardet            pkgs/main/linux-64::chardet-3.0.4-py37_1003\n",
            "  conda              pkgs/main/linux-64::conda-4.8.3-py37_0\n",
            "  conda-package-han~ pkgs/main/linux-64::conda-package-handling-1.6.1-py37h7b6447c_0\n",
            "  cryptography       pkgs/main/linux-64::cryptography-2.9.2-py37h1ba5d50_0\n",
            "  idna               pkgs/main/noarch::idna-2.9-py_1\n",
            "  ld_impl_linux-64   pkgs/main/linux-64::ld_impl_linux-64-2.33.1-h53a641e_7\n",
            "  libedit            pkgs/main/linux-64::libedit-3.1.20181209-hc058e9b_0\n",
            "  libffi             pkgs/main/linux-64::libffi-3.3-he6710b0_1\n",
            "  libgcc-ng          pkgs/main/linux-64::libgcc-ng-9.1.0-hdf63c60_0\n",
            "  libstdcxx-ng       pkgs/main/linux-64::libstdcxx-ng-9.1.0-hdf63c60_0\n",
            "  ncurses            pkgs/main/linux-64::ncurses-6.2-he6710b0_1\n",
            "  openssl            pkgs/main/linux-64::openssl-1.1.1g-h7b6447c_0\n",
            "  pip                pkgs/main/linux-64::pip-20.0.2-py37_3\n",
            "  pycosat            pkgs/main/linux-64::pycosat-0.6.3-py37h7b6447c_0\n",
            "  pycparser          pkgs/main/noarch::pycparser-2.20-py_0\n",
            "  pyopenssl          pkgs/main/linux-64::pyopenssl-19.1.0-py37_0\n",
            "  pysocks            pkgs/main/linux-64::pysocks-1.7.1-py37_0\n",
            "  python             pkgs/main/linux-64::python-3.7.7-hcff3b4d_5\n",
            "  readline           pkgs/main/linux-64::readline-8.0-h7b6447c_0\n",
            "  requests           pkgs/main/linux-64::requests-2.23.0-py37_0\n",
            "  ruamel_yaml        pkgs/main/linux-64::ruamel_yaml-0.15.87-py37h7b6447c_0\n",
            "  setuptools         pkgs/main/linux-64::setuptools-46.4.0-py37_0\n",
            "  six                pkgs/main/linux-64::six-1.14.0-py37_0\n",
            "  sqlite             pkgs/main/linux-64::sqlite-3.31.1-h62c20be_1\n",
            "  tk                 pkgs/main/linux-64::tk-8.6.8-hbc83047_0\n",
            "  tqdm               pkgs/main/noarch::tqdm-4.46.0-py_0\n",
            "  urllib3            pkgs/main/linux-64::urllib3-1.25.8-py37_0\n",
            "  wheel              pkgs/main/linux-64::wheel-0.34.2-py37_0\n",
            "  xz                 pkgs/main/linux-64::xz-5.2.5-h7b6447c_0\n",
            "  yaml               pkgs/main/linux-64::yaml-0.1.7-had09818_2\n",
            "  zlib               pkgs/main/linux-64::zlib-1.2.11-h7b6447c_3\n",
            "\n",
            "\n",
            "Preparing transaction: / \b\b- \b\b\\ \b\b| \b\bdone\n",
            "Executing transaction: - \b\b\\ \b\b| \b\b/ \b\b- \b\b\\ \b\b| \b\b/ \b\b- \b\b\\ \b\b| \b\b/ \b\b- \b\b\\ \b\b| \b\b/ \b\bdone\n",
            "installation finished.\n",
            "WARNING:\n",
            "    You currently have a PYTHONPATH environment variable set. This may cause\n",
            "    unexpected behavior when running the Python interpreter in Miniconda3.\n",
            "    For best results, please verify that your PYTHONPATH only points to\n",
            "    directories of packages that are compatible with the Python interpreter\n",
            "    in Miniconda3: /usr/local\n",
            "Collecting package metadata (current_repodata.json): ...working... done\n",
            "Solving environment: ...working... done\n",
            "\n",
            "## Package Plan ##\n",
            "\n",
            "  environment location: /usr/local\n",
            "\n",
            "  added / updated specs:\n",
            "    - rdkit\n",
            "\n",
            "\n",
            "The following packages will be downloaded:\n",
            "\n",
            "    package                    |            build\n",
            "    ---------------------------|-----------------\n",
            "    boost-1.72.0               |   py37h9de70de_0         316 KB  conda-forge\n",
            "    boost-cpp-1.72.0           |       h7b93d67_2        16.3 MB  conda-forge\n",
            "    bzip2-1.0.8                |       h516909a_2         396 KB  conda-forge\n",
            "    ca-certificates-2020.6.20  |       hecda079_0         145 KB  conda-forge\n",
            "    cairo-1.16.0               |    h3fc0475_1005         1.5 MB  conda-forge\n",
            "    certifi-2020.6.20          |   py37hc8dfbb8_0         151 KB  conda-forge\n",
            "    conda-4.8.3                |   py37hc8dfbb8_1         3.0 MB  conda-forge\n",
            "    fontconfig-2.13.1          |    h1056068_1002         365 KB  conda-forge\n",
            "    freetype-2.10.2            |       he06d7ca_0         905 KB  conda-forge\n",
            "    glib-2.65.0                |       h3eb4bd4_0         2.9 MB\n",
            "    icu-67.1                   |       he1b5a44_0        12.9 MB  conda-forge\n",
            "    jpeg-9d                    |       h516909a_0         266 KB  conda-forge\n",
            "    libblas-3.8.0              |      14_openblas          10 KB  conda-forge\n",
            "    libcblas-3.8.0             |      14_openblas          10 KB  conda-forge\n",
            "    libgfortran-ng-7.5.0       |       hdf63c60_6         1.7 MB  conda-forge\n",
            "    libiconv-1.15              |    h516909a_1006         2.0 MB  conda-forge\n",
            "    liblapack-3.8.0            |      14_openblas          10 KB  conda-forge\n",
            "    libopenblas-0.3.7          |       h5ec1e0e_6         7.6 MB  conda-forge\n",
            "    libpng-1.6.37              |       hed695b0_1         308 KB  conda-forge\n",
            "    libtiff-4.1.0              |       hc7e4089_6         668 KB  conda-forge\n",
            "    libuuid-2.32.1             |    h14c3975_1000          26 KB  conda-forge\n",
            "    libwebp-base-1.1.0         |       h516909a_3         845 KB  conda-forge\n",
            "    libxcb-1.13                |    h14c3975_1002         396 KB  conda-forge\n",
            "    libxml2-2.9.10             |       h72b56ed_1         1.3 MB  conda-forge\n",
            "    lz4-c-1.9.2                |       he1b5a44_1         226 KB  conda-forge\n",
            "    numpy-1.18.5               |   py37h8960a57_0         5.1 MB  conda-forge\n",
            "    olefile-0.46               |             py_0          31 KB  conda-forge\n",
            "    openssl-1.1.1g             |       h516909a_0         2.1 MB  conda-forge\n",
            "    pandas-1.0.5               |   py37h0da4684_0        10.1 MB  conda-forge\n",
            "    pcre-8.44                  |       he1b5a44_0         261 KB  conda-forge\n",
            "    pillow-7.0.0               |   py37hb39fc2d_0         598 KB\n",
            "    pixman-0.38.0              |    h516909a_1003         594 KB  conda-forge\n",
            "    pthread-stubs-0.4          |    h14c3975_1001           5 KB  conda-forge\n",
            "    pycairo-1.19.1             |   py37h01af8b0_3          77 KB  conda-forge\n",
            "    python-dateutil-2.8.1      |             py_0         220 KB  conda-forge\n",
            "    python_abi-3.7             |          1_cp37m           4 KB  conda-forge\n",
            "    pytz-2020.1                |     pyh9f0ad1d_0         227 KB  conda-forge\n",
            "    rdkit-2020.03.4            |   py37hdd87690_0        24.6 MB  conda-forge\n",
            "    xorg-kbproto-1.0.7         |    h14c3975_1002          26 KB  conda-forge\n",
            "    xorg-libice-1.0.10         |       h516909a_0          57 KB  conda-forge\n",
            "    xorg-libsm-1.2.3           |    h84519dc_1000          25 KB  conda-forge\n",
            "    xorg-libx11-1.6.9          |       h516909a_0         918 KB  conda-forge\n",
            "    xorg-libxau-1.0.9          |       h14c3975_0          13 KB  conda-forge\n",
            "    xorg-libxdmcp-1.1.3        |       h516909a_0          18 KB  conda-forge\n",
            "    xorg-libxext-1.3.4         |       h516909a_0          51 KB  conda-forge\n",
            "    xorg-libxrender-0.9.10     |    h516909a_1002          31 KB  conda-forge\n",
            "    xorg-renderproto-0.11.1    |    h14c3975_1002           8 KB  conda-forge\n",
            "    xorg-xextproto-7.3.0       |    h14c3975_1002          27 KB  conda-forge\n",
            "    xorg-xproto-7.0.31         |    h14c3975_1007          72 KB  conda-forge\n",
            "    zstd-1.4.4                 |       h6597ccf_3         991 KB  conda-forge\n",
            "    ------------------------------------------------------------\n",
            "                                           Total:       100.2 MB\n",
            "\n",
            "The following NEW packages will be INSTALLED:\n",
            "\n",
            "  boost              conda-forge/linux-64::boost-1.72.0-py37h9de70de_0\n",
            "  boost-cpp          conda-forge/linux-64::boost-cpp-1.72.0-h7b93d67_2\n",
            "  bzip2              conda-forge/linux-64::bzip2-1.0.8-h516909a_2\n",
            "  cairo              conda-forge/linux-64::cairo-1.16.0-h3fc0475_1005\n",
            "  fontconfig         conda-forge/linux-64::fontconfig-2.13.1-h1056068_1002\n",
            "  freetype           conda-forge/linux-64::freetype-2.10.2-he06d7ca_0\n",
            "  glib               pkgs/main/linux-64::glib-2.65.0-h3eb4bd4_0\n",
            "  icu                conda-forge/linux-64::icu-67.1-he1b5a44_0\n",
            "  jpeg               conda-forge/linux-64::jpeg-9d-h516909a_0\n",
            "  libblas            conda-forge/linux-64::libblas-3.8.0-14_openblas\n",
            "  libcblas           conda-forge/linux-64::libcblas-3.8.0-14_openblas\n",
            "  libgfortran-ng     conda-forge/linux-64::libgfortran-ng-7.5.0-hdf63c60_6\n",
            "  libiconv           conda-forge/linux-64::libiconv-1.15-h516909a_1006\n",
            "  liblapack          conda-forge/linux-64::liblapack-3.8.0-14_openblas\n",
            "  libopenblas        conda-forge/linux-64::libopenblas-0.3.7-h5ec1e0e_6\n",
            "  libpng             conda-forge/linux-64::libpng-1.6.37-hed695b0_1\n",
            "  libtiff            conda-forge/linux-64::libtiff-4.1.0-hc7e4089_6\n",
            "  libuuid            conda-forge/linux-64::libuuid-2.32.1-h14c3975_1000\n",
            "  libwebp-base       conda-forge/linux-64::libwebp-base-1.1.0-h516909a_3\n",
            "  libxcb             conda-forge/linux-64::libxcb-1.13-h14c3975_1002\n",
            "  libxml2            conda-forge/linux-64::libxml2-2.9.10-h72b56ed_1\n",
            "  lz4-c              conda-forge/linux-64::lz4-c-1.9.2-he1b5a44_1\n",
            "  numpy              conda-forge/linux-64::numpy-1.18.5-py37h8960a57_0\n",
            "  olefile            conda-forge/noarch::olefile-0.46-py_0\n",
            "  pandas             conda-forge/linux-64::pandas-1.0.5-py37h0da4684_0\n",
            "  pcre               conda-forge/linux-64::pcre-8.44-he1b5a44_0\n",
            "  pillow             pkgs/main/linux-64::pillow-7.0.0-py37hb39fc2d_0\n",
            "  pixman             conda-forge/linux-64::pixman-0.38.0-h516909a_1003\n",
            "  pthread-stubs      conda-forge/linux-64::pthread-stubs-0.4-h14c3975_1001\n",
            "  pycairo            conda-forge/linux-64::pycairo-1.19.1-py37h01af8b0_3\n",
            "  python-dateutil    conda-forge/noarch::python-dateutil-2.8.1-py_0\n",
            "  python_abi         conda-forge/linux-64::python_abi-3.7-1_cp37m\n",
            "  pytz               conda-forge/noarch::pytz-2020.1-pyh9f0ad1d_0\n",
            "  rdkit              conda-forge/linux-64::rdkit-2020.03.4-py37hdd87690_0\n",
            "  xorg-kbproto       conda-forge/linux-64::xorg-kbproto-1.0.7-h14c3975_1002\n",
            "  xorg-libice        conda-forge/linux-64::xorg-libice-1.0.10-h516909a_0\n",
            "  xorg-libsm         conda-forge/linux-64::xorg-libsm-1.2.3-h84519dc_1000\n",
            "  xorg-libx11        conda-forge/linux-64::xorg-libx11-1.6.9-h516909a_0\n",
            "  xorg-libxau        conda-forge/linux-64::xorg-libxau-1.0.9-h14c3975_0\n",
            "  xorg-libxdmcp      conda-forge/linux-64::xorg-libxdmcp-1.1.3-h516909a_0\n",
            "  xorg-libxext       conda-forge/linux-64::xorg-libxext-1.3.4-h516909a_0\n",
            "  xorg-libxrender    conda-forge/linux-64::xorg-libxrender-0.9.10-h516909a_1002\n",
            "  xorg-renderproto   conda-forge/linux-64::xorg-renderproto-0.11.1-h14c3975_1002\n",
            "  xorg-xextproto     conda-forge/linux-64::xorg-xextproto-7.3.0-h14c3975_1002\n",
            "  xorg-xproto        conda-forge/linux-64::xorg-xproto-7.0.31-h14c3975_1007\n",
            "  zstd               conda-forge/linux-64::zstd-1.4.4-h6597ccf_3\n",
            "\n",
            "The following packages will be UPDATED:\n",
            "\n",
            "  ca-certificates     pkgs/main::ca-certificates-2020.1.1-0 --> conda-forge::ca-certificates-2020.6.20-hecda079_0\n",
            "  certifi              pkgs/main::certifi-2020.4.5.1-py37_0 --> conda-forge::certifi-2020.6.20-py37hc8dfbb8_0\n",
            "  conda                       pkgs/main::conda-4.8.3-py37_0 --> conda-forge::conda-4.8.3-py37hc8dfbb8_1\n",
            "\n",
            "The following packages will be SUPERSEDED by a higher-priority channel:\n",
            "\n",
            "  openssl              pkgs/main::openssl-1.1.1g-h7b6447c_0 --> conda-forge::openssl-1.1.1g-h516909a_0\n",
            "\n",
            "\n",
            "Preparing transaction: ...working... done\n",
            "Verifying transaction: ...working... done\n",
            "Executing transaction: ...working... done\n"
          ],
          "name": "stdout"
        }
      ]
    },
    {
      "cell_type": "markdown",
      "metadata": {
        "id": "vZmnpVrAjWSS",
        "colab_type": "text"
      },
      "source": [
        "Add RDKit to system PATH"
      ]
    },
    {
      "cell_type": "code",
      "metadata": {
        "id": "0QBnPcl_Q9i5",
        "colab_type": "code",
        "colab": {}
      },
      "source": [
        "import sys\n",
        "sys.path.append('/usr/local/lib/python3.7/site-packages/')"
      ],
      "execution_count": 5,
      "outputs": []
    },
    {
      "cell_type": "markdown",
      "metadata": {
        "id": "T5MDJ-6diK9f",
        "colab_type": "text"
      },
      "source": [
        "# Basic usage"
      ]
    },
    {
      "cell_type": "markdown",
      "metadata": {
        "id": "PH17HwDMiGSJ",
        "colab_type": "text"
      },
      "source": [
        "## Generating Bioactivity Signatures"
      ]
    },
    {
      "cell_type": "markdown",
      "metadata": {
        "id": "DtKnPHu5NILM",
        "colab_type": "text"
      },
      "source": [
        "Let's start loading the signaturizer for B1 space which generates the Mode of Action bioactivity descriptor. The MoA is represented by the exact molecular target/s or the physiological outcomes (if the target has not yet been elucidated or is subject to debate). \n",
        "\n",
        "The MoA of \"Aspirin\", for example, would be \"inhibitor of COX-1\" while its broader mode of action would be \"blocks prostaglandin synthesis\"."
      ]
    },
    {
      "cell_type": "code",
      "metadata": {
        "id": "aSXE4FRsOthC",
        "colab_type": "code",
        "colab": {}
      },
      "source": [
        "from signaturizer import Signaturizer\n",
        "sign = Signaturizer('B1')"
      ],
      "execution_count": 6,
      "outputs": []
    },
    {
      "cell_type": "markdown",
      "metadata": {
        "id": "57CPy_YBNS_Z",
        "colab_type": "text"
      },
      "source": [
        "To generate signatures for a compound we need it's structure represented in [SMILES format](https://en.wikipedia.org/wiki/Simplified_molecular-input_line-entry_system).\n",
        "\n",
        "Let's take for example the smiles for 3 common pharmacy drugs:\n",
        "- Aspirin: CC(=O)OC1=CC=CC=C1C(=O)O\n",
        "- Lovastatin: CCC(C)C(=O)OC1CC(C=C2C1C(C(C=C2)C)CCC3CC(CC(=O)O3)O)C\n",
        "- Simvastatin: CC(C)C1=C(C(=C(N1CCC(CC(CC(=O)O)O)O)C2=CC=C(C=C2)F)C3=CC=CC=C3)C(=O)NC4=CC=CC=C4"
      ]
    },
    {
      "cell_type": "code",
      "metadata": {
        "id": "Io5wNV5LuWSV",
        "colab_type": "code",
        "colab": {}
      },
      "source": [
        "aspirin = 'CC(=O)OC1=CC=CC=C1C(=O)O'\n",
        "lovastatin ='CCC(C)C(=O)OC1CC(C=C2C1C(C(C=C2)C)CCC3CC(CC(=O)O3)O)C'\n",
        "simvastatin = 'CC(C)C1=C(C(=C(N1CCC(CC(CC(=O)O)O)O)C2=CC=C(C=C2)F)C3=CC=CC=C3)C(=O)NC4=CC=CC=C4'"
      ],
      "execution_count": 7,
      "outputs": []
    },
    {
      "cell_type": "code",
      "metadata": {
        "id": "MS9SfFfYNavH",
        "colab_type": "code",
        "colab": {}
      },
      "source": [
        "smiles = [aspirin, lovastatin, simvastatin]\n",
        "results = sign.predict(smiles)"
      ],
      "execution_count": 14,
      "outputs": []
    },
    {
      "cell_type": "code",
      "metadata": {
        "id": "Wp0nC6j6iWHb",
        "colab_type": "code",
        "colab": {
          "base_uri": "https://localhost:8080/",
          "height": 34
        },
        "outputId": "0b12ac46-52c0-478f-e16b-407734cbd157"
      },
      "source": [
        "print(results.signature.shape)"
      ],
      "execution_count": 15,
      "outputs": [
        {
          "output_type": "stream",
          "text": [
            "(3, 128)\n"
          ],
          "name": "stdout"
        }
      ]
    },
    {
      "cell_type": "code",
      "metadata": {
        "id": "7z9lfmdqPvNp",
        "colab_type": "code",
        "colab": {
          "base_uri": "https://localhost:8080/",
          "height": 1000
        },
        "outputId": "1de1b27c-ea59-4bb6-e718-48e753d04b05"
      },
      "source": [
        "print(results.signature)"
      ],
      "execution_count": 16,
      "outputs": [
        {
          "output_type": "stream",
          "text": [
            "[[-0.10735843 -0.09857365 -0.10543366  0.10548453 -0.10549589  0.10528049\n",
            "   0.10317267 -0.05153803 -0.00418883  0.01363485 -0.06160218 -0.10474364\n",
            "   0.106157   -0.10635743 -0.10553287 -0.03762897  0.08818265  0.10388952\n",
            "   0.1022807  -0.02573126 -0.09235839 -0.10431267 -0.06914257 -0.08317238\n",
            "   0.09777546  0.10451618 -0.01429814 -0.10665171 -0.10735557  0.01068052\n",
            "   0.10485429 -0.10459466 -0.04650668  0.10161795  0.04915468  0.07926687\n",
            "   0.02674097  0.10120028 -0.09563922  0.09616648 -0.10776384 -0.10688284\n",
            "  -0.09917416 -0.07726933 -0.1067754   0.1016459  -0.07684016  0.03898009\n",
            "  -0.07787929 -0.08747023 -0.05436514  0.01366163 -0.07764621 -0.09646143\n",
            "  -0.10555495 -0.05729872  0.10049175 -0.09828804 -0.08078068  0.10453899\n",
            "   0.09460762  0.10658664 -0.10221313 -0.10043799 -0.09282003 -0.10753073\n",
            "  -0.09511212 -0.08432139  0.1006536  -0.09715015  0.05733465  0.07575393\n",
            "  -0.10381117  0.09981636 -0.10713798 -0.10333581 -0.05963349  0.10702831\n",
            "   0.03038719  0.09662335  0.10032459 -0.10634822  0.10211921 -0.07850917\n",
            "   0.06312628  0.10677733  0.06707339 -0.10647018 -0.08081096  0.07520047\n",
            "  -0.09965203  0.09748027 -0.06667796 -0.06511284 -0.10391109  0.0489568\n",
            "   0.07280321  0.0815746  -0.09754323 -0.09524103  0.01422129 -0.07453431\n",
            "   0.08005755  0.10207707 -0.10319519  0.09335124 -0.10696309 -0.09698416\n",
            "  -0.10273548  0.10787421  0.07170548 -0.10556478  0.10116237  0.01570093\n",
            "   0.10616448  0.08609034  0.10775179  0.07251938 -0.02494079  0.09936512\n",
            "  -0.06095188 -0.10614546 -0.08722966  0.09566137  0.06156202 -0.10765447\n",
            "   0.07595198  0.06499535]\n",
            " [-0.08844962 -0.08844962 -0.08844962  0.08844962 -0.08844962  0.08844962\n",
            "   0.08844866 -0.08844952  0.08844962 -0.08844955  0.08844535 -0.08844938\n",
            "   0.08844844 -0.08844962 -0.08844962 -0.08844962  0.08844963  0.08844401\n",
            "   0.0884496   0.08844962  0.08844895 -0.08844962 -0.08844936 -0.08844962\n",
            "  -0.08844703 -0.08820748  0.08844461 -0.0884496  -0.08844962 -0.08843107\n",
            "  -0.08483545 -0.08844879 -0.0884496  -0.08844962  0.08844962 -0.08844962\n",
            "  -0.08832397  0.08844962 -0.08844835  0.08844955 -0.08844962 -0.08844962\n",
            "  -0.08844962  0.0884449  -0.08844962  0.08844962 -0.08844962 -0.08844962\n",
            "  -0.08844353  0.08844525 -0.08842462 -0.08844962  0.08844954  0.08844546\n",
            "  -0.0884496  -0.08837485 -0.08844902 -0.08844962 -0.08841278  0.08837162\n",
            "  -0.08844524  0.08844703 -0.08844962  0.08843727 -0.08844963 -0.0884496\n",
            "   0.0884496   0.08843629  0.08844962 -0.08844881  0.08843482 -0.0884491\n",
            "  -0.08822757  0.08841313 -0.08844959 -0.08844962  0.08811083  0.08844962\n",
            "  -0.08844962 -0.08844254  0.08844962 -0.08844962  0.08844867 -0.08844449\n",
            "  -0.08844918  0.08844962  0.08844962 -0.08844962 -0.08840694 -0.08844961\n",
            "  -0.08844962  0.08844939  0.08844962  0.08844864 -0.08844962  0.08840811\n",
            "   0.08844183  0.08844962 -0.08605447 -0.08842227  0.08844714 -0.08821472\n",
            "   0.08844733  0.08844962 -0.08844962  0.0884496  -0.08844962 -0.08844962\n",
            "  -0.08844962  0.08844882  0.08841858 -0.08844962 -0.08844962 -0.08844962\n",
            "   0.08844961  0.08844962  0.08844962 -0.08844924 -0.08844961  0.08844962\n",
            "  -0.08844958 -0.08844912  0.08844962  0.08821162  0.08844835 -0.08844962\n",
            "  -0.08844962 -0.0884464 ]\n",
            " [-0.08849057 -0.08849057 -0.08849057  0.08849057 -0.08849057  0.08849057\n",
            "   0.0884891  -0.08849053  0.08849057 -0.08849055  0.08848701 -0.08849026\n",
            "   0.08849054 -0.08849057 -0.08849057 -0.08849057  0.08849057  0.08848776\n",
            "   0.08849057  0.08849057  0.08848865 -0.08849057 -0.08848988 -0.08849057\n",
            "  -0.08848942 -0.08788108  0.0884897  -0.08849056 -0.08849057 -0.08848573\n",
            "  -0.08717491 -0.08849034 -0.08849049 -0.08849057  0.08849057 -0.08849057\n",
            "  -0.08846232  0.08849057 -0.08849034  0.08849051 -0.08849057 -0.08849057\n",
            "  -0.08849057  0.0884887  -0.08849057  0.08849057 -0.08849057 -0.08849057\n",
            "  -0.08847837  0.08848985 -0.08846912 -0.08849057  0.08849052  0.08840879\n",
            "  -0.08849055 -0.08846994 -0.08849012 -0.08849057 -0.08842143  0.08844291\n",
            "  -0.08848119  0.08848918 -0.08849057  0.08846975 -0.08849057 -0.08849057\n",
            "   0.08849055  0.08848365  0.08849056 -0.08849022  0.08843701 -0.08849026\n",
            "  -0.08836175  0.08847598 -0.08849055 -0.08849057  0.08806338  0.08849057\n",
            "  -0.08849057 -0.08841503  0.08849057 -0.08849057  0.08849031 -0.08846351\n",
            "  -0.08849012  0.08849057  0.08849057 -0.08849057 -0.08846811 -0.08849056\n",
            "  -0.08849057  0.08849054  0.08849057  0.08848993 -0.08849057  0.08847609\n",
            "   0.08848917  0.08849057 -0.08116908 -0.08837748  0.08847988 -0.08569342\n",
            "   0.08849015  0.08849056 -0.08849057  0.08849056 -0.08849057 -0.08849057\n",
            "  -0.08849057  0.08849034  0.08837628 -0.08849057 -0.08849057 -0.08849057\n",
            "   0.08849057  0.08849057  0.08849057 -0.08849046 -0.08849058  0.08849057\n",
            "  -0.08849053 -0.08849045  0.08849057  0.08845269  0.08848805 -0.08849057\n",
            "  -0.08849057 -0.08848513]]\n"
          ],
          "name": "stdout"
        }
      ]
    },
    {
      "cell_type": "markdown",
      "metadata": {
        "id": "elO_JGQLWL3O",
        "colab_type": "text"
      },
      "source": [
        "We can measure the distance between signatures to highlight that the two statins have indeed a similar MoA, which is different from the aspirin."
      ]
    },
    {
      "cell_type": "code",
      "metadata": {
        "id": "SWoQuLE8WMEM",
        "colab_type": "code",
        "colab": {
          "base_uri": "https://localhost:8080/",
          "height": 69
        },
        "outputId": "2bb10d02-6a34-407d-9d17-f6cd189a7250"
      },
      "source": [
        "from scipy.spatial.distance import euclidean\n",
        "print(euclidean(results.signature[0], results.signature[1]))\n",
        "print(euclidean(results.signature[0], results.signature[2]))\n",
        "print(euclidean(results.signature[1], results.signature[2]))"
      ],
      "execution_count": 17,
      "outputs": [
        {
          "output_type": "stream",
          "text": [
            "0.998249351978302\n",
            "0.9988548159599304\n",
            "0.006009774282574654\n"
          ],
          "name": "stdout"
        }
      ]
    },
    {
      "cell_type": "markdown",
      "metadata": {
        "id": "wj6b_Xl4imiK",
        "colab_type": "text"
      },
      "source": [
        "## Generating multiple Signatures in one batch"
      ]
    },
    {
      "cell_type": "markdown",
      "metadata": {
        "id": "ov7mmmaYkgiu",
        "colab_type": "text"
      },
      "source": [
        "We might want to describe out molecules by multiple point of view using different descriptors. The signaturizer package allow easy and modular bioactivity space cambinations.\n",
        "\n",
        "Signaturizers are loaded as TF hub modules so they are cached locally, in this way model download (takes time) is happening only once"
      ]
    },
    {
      "cell_type": "code",
      "metadata": {
        "id": "7wYXLKpMid9u",
        "colab_type": "code",
        "colab": {
          "base_uri": "https://localhost:8080/",
          "height": 34
        },
        "outputId": "d3ae470f-092e-47cf-9bb0-0b799a24d4c9"
      },
      "source": [
        "sign = Signaturizer(['B1', 'E4', 'A5', 'D3'])\n",
        "results = sign.predict(smiles)\n",
        "print(results.signature.shape)"
      ],
      "execution_count": 18,
      "outputs": [
        {
          "output_type": "stream",
          "text": [
            "(3, 512)\n"
          ],
          "name": "stdout"
        }
      ]
    },
    {
      "cell_type": "markdown",
      "metadata": {
        "id": "n9lWWYyMizlF",
        "colab_type": "text"
      },
      "source": [
        "## Generating Global Bioactivity Signatures"
      ]
    },
    {
      "cell_type": "markdown",
      "metadata": {
        "id": "8Koa5I3PN09_",
        "colab_type": "text"
      },
      "source": [
        "A _global_ signature consists of stacking all the bioactivity spaces described by the Chemical Checker, this is convinient when we want a rich _general purpose_ descriptor."
      ]
    },
    {
      "cell_type": "code",
      "metadata": {
        "id": "NsLm7iKPisYF",
        "colab_type": "code",
        "colab": {
          "base_uri": "https://localhost:8080/",
          "height": 34
        },
        "outputId": "04bd771c-9f06-4886-9237-0d0926e24a28"
      },
      "source": [
        "sign = Signaturizer('GLOBAL')\n",
        "results = sign.predict(smiles)\n",
        "print(results.signature.shape)"
      ],
      "execution_count": 19,
      "outputs": [
        {
          "output_type": "stream",
          "text": [
            "(3, 3200)\n"
          ],
          "name": "stdout"
        }
      ]
    },
    {
      "cell_type": "markdown",
      "metadata": {
        "id": "NCbAJPnYjuv6",
        "colab_type": "text"
      },
      "source": [
        "## Saving results to h5"
      ]
    },
    {
      "cell_type": "markdown",
      "metadata": {
        "id": "uEsM2iHbk7iH",
        "colab_type": "text"
      },
      "source": [
        "When generating signatures for a lot of molecules it is better to save them to disk and avoid consuming all system memory."
      ]
    },
    {
      "cell_type": "code",
      "metadata": {
        "id": "NQtJidPIi38B",
        "colab_type": "code",
        "colab": {
          "base_uri": "https://localhost:8080/",
          "height": 34
        },
        "outputId": "1ab97787-51b6-4d6b-aae0-3b7fd9aa5d09"
      },
      "source": [
        "!rm destination.h5\n",
        "results = sign.predict(smiles, 'destination.h5')"
      ],
      "execution_count": 20,
      "outputs": [
        {
          "output_type": "stream",
          "text": [
            "rm: cannot remove 'destination.h5': No such file or directory\n"
          ],
          "name": "stdout"
        }
      ]
    },
    {
      "cell_type": "markdown",
      "metadata": {
        "id": "AC6vY-CmxlyI",
        "colab_type": "text"
      },
      "source": [
        "We can read the results anytime using the [h5py package](https://www.h5py.org/)."
      ]
    },
    {
      "cell_type": "code",
      "metadata": {
        "id": "kUi2c5TajZVB",
        "colab_type": "code",
        "colab": {
          "base_uri": "https://localhost:8080/",
          "height": 34
        },
        "outputId": "38b146e0-e381-46a7-f6ea-53b3ed6e762e"
      },
      "source": [
        "import h5py\n",
        "with h5py.File('destination.h5', 'r') as fh:\n",
        "  signatures = fh['signature'][:]\n",
        "print(signatures.shape)"
      ],
      "execution_count": 21,
      "outputs": [
        {
          "output_type": "stream",
          "text": [
            "(3, 3200)\n"
          ],
          "name": "stdout"
        }
      ]
    },
    {
      "cell_type": "markdown",
      "metadata": {
        "id": "OJ6BIyrXlYx6",
        "colab_type": "text"
      },
      "source": [
        "## Applicability predictions"
      ]
    },
    {
      "cell_type": "markdown",
      "metadata": {
        "id": "_y6i4vmIlfkJ",
        "colab_type": "text"
      },
      "source": [
        "The `applicability` score helps identifying molecules for which the signature prediction is extremely accurate"
      ]
    },
    {
      "cell_type": "code",
      "metadata": {
        "id": "uSKHZhj_j5AG",
        "colab_type": "code",
        "colab": {}
      },
      "source": [
        "results = sign.predict(smiles, applicability=True)"
      ],
      "execution_count": 23,
      "outputs": []
    },
    {
      "cell_type": "markdown",
      "metadata": {
        "id": "J3WvU9Y8nWBG",
        "colab_type": "text"
      },
      "source": [
        "Each bioactivity signature comes with an applicability score, since we are using the global signature we will have 25 applicability score for each molecule."
      ]
    },
    {
      "cell_type": "code",
      "metadata": {
        "id": "2xlYd59enHWq",
        "colab_type": "code",
        "colab": {
          "base_uri": "https://localhost:8080/",
          "height": 34
        },
        "outputId": "daee9527-dcc5-47dd-a149-54d6f75895b5"
      },
      "source": [
        "print(results.applicability.shape)"
      ],
      "execution_count": 27,
      "outputs": [
        {
          "output_type": "stream",
          "text": [
            "(3, 25)\n"
          ],
          "name": "stdout"
        }
      ]
    },
    {
      "cell_type": "markdown",
      "metadata": {
        "id": "kVXJ1RDUoAf8",
        "colab_type": "text"
      },
      "source": [
        "NB: In `results.dataset` we store the bioactivity dataset code."
      ]
    },
    {
      "cell_type": "code",
      "metadata": {
        "id": "zBrA7oVmn6cQ",
        "colab_type": "code",
        "colab": {
          "base_uri": "https://localhost:8080/",
          "height": 52
        },
        "outputId": "df053f6d-252a-4335-e1ec-44f4e2b3c297"
      },
      "source": [
        "print(results.dataset)"
      ],
      "execution_count": 29,
      "outputs": [
        {
          "output_type": "stream",
          "text": [
            "['A1' 'A2' 'A3' 'A4' 'A5' 'B1' 'B2' 'B3' 'B4' 'B5' 'C1' 'C2' 'C3' 'C4'\n",
            " 'C5' 'D1' 'D2' 'D3' 'D4' 'D5' 'E1' 'E2' 'E3' 'E4' 'E5']\n"
          ],
          "name": "stdout"
        }
      ]
    },
    {
      "cell_type": "markdown",
      "metadata": {
        "id": "KvJa2Migp0tc",
        "colab_type": "text"
      },
      "source": [
        "We can highligth most reliable predictions (applicability is tuned as measure of correlation, i.e. how much we think the signature is related to real values)"
      ]
    },
    {
      "cell_type": "code",
      "metadata": {
        "id": "Wr4S21_foqoQ",
        "colab_type": "code",
        "colab": {
          "base_uri": "https://localhost:8080/",
          "height": 72
        },
        "outputId": "05df2037-f7ac-454e-a50f-a3e68dd6b31a"
      },
      "source": [
        "%matplotlib inline\n",
        "import matplotlib\n",
        "import seaborn as sns\n",
        "import matplotlib.pyplot as plt"
      ],
      "execution_count": 30,
      "outputs": [
        {
          "output_type": "stream",
          "text": [
            "/usr/local/lib/python3.6/dist-packages/statsmodels/tools/_testing.py:19: FutureWarning: pandas.util.testing is deprecated. Use the functions in the public API at pandas.testing instead.\n",
            "  import pandas.util.testing as tm\n"
          ],
          "name": "stderr"
        }
      ]
    },
    {
      "cell_type": "code",
      "metadata": {
        "id": "iLvF9WaToznw",
        "colab_type": "code",
        "colab": {
          "base_uri": "https://localhost:8080/",
          "height": 88
        },
        "outputId": "324c3565-e7c3-484a-dbf1-c4f8ce8aa8eb"
      },
      "source": [
        "plt.imshow(results.applicability)\n",
        "plt.gca().set_xticks(range(len(results.dataset)));\n",
        "plt.gca().set_xticklabels(results.dataset);"
      ],
      "execution_count": 38,
      "outputs": [
        {
          "output_type": "display_data",
          "data": {
            "image/png": "[encoded data removed]",
            "text/plain": [
              "<Figure size 432x288 with 1 Axes>"
            ]
          },
          "metadata": {
            "tags": [],
            "needs_background": "light"
          }
        }
      ]
    },
    {
      "cell_type": "markdown",
      "metadata": {
        "id": "lQXDRC09p2dk",
        "colab_type": "text"
      },
      "source": [
        "# Usage example"
      ]
    },
    {
      "cell_type": "markdown",
      "metadata": {
        "id": "oeM4qUz11LlG",
        "colab_type": "text"
      },
      "source": [
        "## Data source\n",
        "In this notebook we will analize a representative subset of the [FooDB](https://foodb.ca/) compound library exploiting the Chemical Checker signatures generated _via_ our Signaturizers. Let's first download and inspect the  data:"
      ]
    },
    {
      "cell_type": "code",
      "metadata": {
        "id": "KCUPgpB1p7Pb",
        "colab_type": "code",
        "colab": {
          "base_uri": "https://localhost:8080/",
          "height": 208
        },
        "outputId": "1e44cd48-e5b9-424c-a808-85586f36534e"
      },
      "source": [
        "!wget http://gitlabsbnb.irbbarcelona.org/packages/signaturizer/raw/master/notebook/foodb_repr.csv"
      ],
      "execution_count": 39,
      "outputs": [
        {
          "output_type": "stream",
          "text": [
            "--2020-07-14 14:11:23--  http://gitlabsbnb.irbbarcelona.org/packages/signaturizer/raw/master/notebook/foodb_repr.csv\n",
            "Resolving gitlabsbnb.irbbarcelona.org (gitlabsbnb.irbbarcelona.org)... 84.88.74.140\n",
            "Connecting to gitlabsbnb.irbbarcelona.org (gitlabsbnb.irbbarcelona.org)|84.88.74.140|:80... connected.\n",
            "HTTP request sent, awaiting response... 200 OK\n",
            "Length: 5535132 (5.3M) [text/plain]\n",
            "Saving to: ‘foodb_repr.csv’\n",
            "\n",
            "foodb_repr.csv      100%[===================>]   5.28M  5.61MB/s    in 0.9s    \n",
            "\n",
            "2020-07-14 14:11:25 (5.61 MB/s) - ‘foodb_repr.csv’ saved [5535132/5535132]\n",
            "\n"
          ],
          "name": "stdout"
        }
      ]
    },
    {
      "cell_type": "code",
      "metadata": {
        "id": "3zZwIfVs1Dfv",
        "colab_type": "code",
        "colab": {
          "base_uri": "https://localhost:8080/",
          "height": 424
        },
        "outputId": "db2cc453-5113-46ea-9298-661c0a079808"
      },
      "source": [
        "import pandas as pd\n",
        "df = pd.read_csv('./foodb_repr.csv')\n",
        "df"
      ],
      "execution_count": 40,
      "outputs": [
        {
          "output_type": "execute_result",
          "data": {
            "text/html": [
              "<div>\n",
              "<style scoped>\n",
              "    .dataframe tbody tr th:only-of-type {\n",
              "        vertical-align: middle;\n",
              "    }\n",
              "\n",
              "    .dataframe tbody tr th {\n",
              "        vertical-align: top;\n",
              "    }\n",
              "\n",
              "    .dataframe thead th {\n",
              "        text-align: right;\n",
              "    }\n",
              "</style>\n",
              "<table border=\"1\" class=\"dataframe\">\n",
              "  <thead>\n",
              "    <tr style=\"text-align: right;\">\n",
              "      <th></th>\n",
              "      <th>InChIKey</th>\n",
              "      <th>SMILES</th>\n",
              "      <th>food_name</th>\n",
              "      <th>food_subgroup</th>\n",
              "      <th>food_group</th>\n",
              "    </tr>\n",
              "  </thead>\n",
              "  <tbody>\n",
              "    <tr>\n",
              "      <th>0</th>\n",
              "      <td>AAARRLVSWMMLIL-JFDCHTIYSA-N</td>\n",
              "      <td>CC/C=C\\C/C=C\\C/C=C\\C/C=C\\CCCCCCC(=O)OC[C@H](CO...</td>\n",
              "      <td>Bison</td>\n",
              "      <td>Bovines</td>\n",
              "      <td>Animal foods</td>\n",
              "    </tr>\n",
              "    <tr>\n",
              "      <th>1</th>\n",
              "      <td>AAAUQAJYMBAEDN-SDYYSCIWSA-N</td>\n",
              "      <td>CC/C=C\\C/C=C\\C/C=C\\C/C=C\\CCCCCCC(=O)OC[C@H](CO...</td>\n",
              "      <td>Bison</td>\n",
              "      <td>Bovines</td>\n",
              "      <td>Animal foods</td>\n",
              "    </tr>\n",
              "    <tr>\n",
              "      <th>2</th>\n",
              "      <td>AAAVAOYFDZROJH-ODEQYEIHSA-N</td>\n",
              "      <td>CCCCCCCCCCCCCCCCC(=O)OC[C@@H](COC(=O)CCCCCCCCC...</td>\n",
              "      <td>Bison</td>\n",
              "      <td>Bovines</td>\n",
              "      <td>Animal foods</td>\n",
              "    </tr>\n",
              "    <tr>\n",
              "      <th>3</th>\n",
              "      <td>AAAYFFAGXKLUDV-AXAMJWTMSA-N</td>\n",
              "      <td>CC(C)CCCCCCCCCCCCCCCCCC(=O)OC[C@H](COC(=O)CCCC...</td>\n",
              "      <td>Bison</td>\n",
              "      <td>Bovines</td>\n",
              "      <td>Animal foods</td>\n",
              "    </tr>\n",
              "    <tr>\n",
              "      <th>4</th>\n",
              "      <td>AABORWYRSOFPIQ-NTOMMRJQSA-N</td>\n",
              "      <td>CCCCCCCCCCCCCCCCCCC(=O)OC[C@@H](COC(=O)CCCCCCC...</td>\n",
              "      <td>Bison</td>\n",
              "      <td>Bovines</td>\n",
              "      <td>Animal foods</td>\n",
              "    </tr>\n",
              "    <tr>\n",
              "      <th>...</th>\n",
              "      <td>...</td>\n",
              "      <td>...</td>\n",
              "      <td>...</td>\n",
              "      <td>...</td>\n",
              "      <td>...</td>\n",
              "    </tr>\n",
              "    <tr>\n",
              "      <th>47949</th>\n",
              "      <td>IKGXIBQEEMLURG-NVPNHPEKSA-N</td>\n",
              "      <td>C[C@@H]1O[C@@H](OC[C@H]2O[C@@H](Oc3c(-c4ccc(O)...</td>\n",
              "      <td>Berry wine</td>\n",
              "      <td>Fermented beverages</td>\n",
              "      <td>Beverages</td>\n",
              "    </tr>\n",
              "    <tr>\n",
              "      <th>47950</th>\n",
              "      <td>IKGXIBQEEMLURG-NVPNHPEKSA-N</td>\n",
              "      <td>C[C@@H]1O[C@@H](OC[C@H]2O[C@@H](Oc3c(-c4ccc(O)...</td>\n",
              "      <td>Berry wine</td>\n",
              "      <td>Fermented beverages</td>\n",
              "      <td>Beverages</td>\n",
              "    </tr>\n",
              "    <tr>\n",
              "      <th>47951</th>\n",
              "      <td>OXGUCUVFOIWWQJ-HQBVPOQASA-N</td>\n",
              "      <td>C[C@@H]1O[C@@H](Oc2c(-c3ccc(O)c(O)c3)oc3cc(O)c...</td>\n",
              "      <td>Berry wine</td>\n",
              "      <td>Fermented beverages</td>\n",
              "      <td>Beverages</td>\n",
              "    </tr>\n",
              "    <tr>\n",
              "      <th>47952</th>\n",
              "      <td>OXGUCUVFOIWWQJ-HQBVPOQASA-N</td>\n",
              "      <td>C[C@@H]1O[C@@H](Oc2c(-c3ccc(O)c(O)c3)oc3cc(O)c...</td>\n",
              "      <td>Berry wine</td>\n",
              "      <td>Fermented beverages</td>\n",
              "      <td>Beverages</td>\n",
              "    </tr>\n",
              "    <tr>\n",
              "      <th>47953</th>\n",
              "      <td>IMFOMPZKWQBDLQ-DLYKBUTRSA-N</td>\n",
              "      <td>CC1=CC(=O)CC(C)(C)C1/C=C\\C(C)=C\\C=C\\C(C)=C/C=C...</td>\n",
              "      <td>Dolphin fish</td>\n",
              "      <td>Fishes</td>\n",
              "      <td>Aquatic foods</td>\n",
              "    </tr>\n",
              "  </tbody>\n",
              "</table>\n",
              "<p>47954 rows × 5 columns</p>\n",
              "</div>"
            ],
            "text/plain": [
              "                          InChIKey  ...     food_group\n",
              "0      AAARRLVSWMMLIL-JFDCHTIYSA-N  ...   Animal foods\n",
              "1      AAAUQAJYMBAEDN-SDYYSCIWSA-N  ...   Animal foods\n",
              "2      AAAVAOYFDZROJH-ODEQYEIHSA-N  ...   Animal foods\n",
              "3      AAAYFFAGXKLUDV-AXAMJWTMSA-N  ...   Animal foods\n",
              "4      AABORWYRSOFPIQ-NTOMMRJQSA-N  ...   Animal foods\n",
              "...                            ...  ...            ...\n",
              "47949  IKGXIBQEEMLURG-NVPNHPEKSA-N  ...      Beverages\n",
              "47950  IKGXIBQEEMLURG-NVPNHPEKSA-N  ...      Beverages\n",
              "47951  OXGUCUVFOIWWQJ-HQBVPOQASA-N  ...      Beverages\n",
              "47952  OXGUCUVFOIWWQJ-HQBVPOQASA-N  ...      Beverages\n",
              "47953  IMFOMPZKWQBDLQ-DLYKBUTRSA-N  ...  Aquatic foods\n",
              "\n",
              "[47954 rows x 5 columns]"
            ]
          },
          "metadata": {
            "tags": []
          },
          "execution_count": 40
        }
      ]
    },
    {
      "cell_type": "markdown",
      "metadata": {
        "id": "Kw7UMnSq1WNy",
        "colab_type": "text"
      },
      "source": [
        "We have different column in this file, the most important for our task is the **SMILES** columns, which is the input required to generate signatures."
      ]
    },
    {
      "cell_type": "code",
      "metadata": {
        "id": "FmA6lA7j1SIL",
        "colab_type": "code",
        "colab": {
          "base_uri": "https://localhost:8080/",
          "height": 121
        },
        "outputId": "50a5c22b-8b9e-4a54-9837-2911680911f8"
      },
      "source": [
        "df.nunique()"
      ],
      "execution_count": 41,
      "outputs": [
        {
          "output_type": "execute_result",
          "data": {
            "text/plain": [
              "InChIKey         6325\n",
              "SMILES           6325\n",
              "food_name         461\n",
              "food_subgroup      57\n",
              "food_group         17\n",
              "dtype: int64"
            ]
          },
          "metadata": {
            "tags": []
          },
          "execution_count": 41
        }
      ]
    },
    {
      "cell_type": "markdown",
      "metadata": {
        "id": "6kQEAen-1cGO",
        "colab_type": "text"
      },
      "source": [
        "Comparing the total number of rows (47954) to the number of unique entries (6325) we realize that molecules are repeated, and indeed different food can contain repeated compounds. For this reason we'll use a non redundant set of SMILES."
      ]
    },
    {
      "cell_type": "code",
      "metadata": {
        "id": "QiXculT_1Ysx",
        "colab_type": "code",
        "colab": {}
      },
      "source": [
        "smiles = df.SMILES.unique()"
      ],
      "execution_count": 42,
      "outputs": []
    },
    {
      "cell_type": "markdown",
      "metadata": {
        "id": "lV-O6j6W1icV",
        "colab_type": "text"
      },
      "source": [
        "## Signatures\n",
        "Signatures are numerical representation of molecules. Having molecules represented as vector is needed if we want to do any quantitative analysis of our library (e.g. comparison, clustering, visualization ...). The advantage of using a signaturizer with respect to standard chemical representation (e.g. morgan fingerprint) is that we can leverage on the wealth of public bioactivity data that goes beyond chemical information.\n",
        "\n",
        "In the Chemical Checker we defined 25 bioactivity spaces which capture multiple aspect of a molecule. The stacked version of the signatures for these 25 spaces is what we call the _global_ signature, i.e. a general purpose entry point for our analisys."
      ]
    },
    {
      "cell_type": "code",
      "metadata": {
        "id": "7p9R91uG1er7",
        "colab_type": "code",
        "colab": {}
      },
      "source": [
        "# load the global bioactivity signaturizer\n",
        "from signaturizer import Signaturizer\n",
        "sign = Signaturizer('GLOBAL', verbose=False)"
      ],
      "execution_count": 43,
      "outputs": []
    },
    {
      "cell_type": "markdown",
      "metadata": {
        "id": "TwkcsgWp1rH0",
        "colab_type": "text"
      },
      "source": [
        "For the sake of time we can just consider a random subsampling of these molecules."
      ]
    },
    {
      "cell_type": "code",
      "metadata": {
        "id": "N1b5vRbd1poj",
        "colab_type": "code",
        "colab": {}
      },
      "source": [
        "import numpy as np\n",
        "np.random.seed(42)\n",
        "subsample = np.random.choice(smiles, 3000, replace=False)\n",
        "result = sign.predict(subsample)"
      ],
      "execution_count": null,
      "outputs": []
    },
    {
      "cell_type": "code",
      "metadata": {
        "id": "-tW3NoYK1t9r",
        "colab_type": "code",
        "colab": {
          "base_uri": "https://localhost:8080/",
          "height": 34
        },
        "outputId": "fc13947c-0f26-40a6-9b06-134eddb8a073"
      },
      "source": [
        "result.signature.shape"
      ],
      "execution_count": 59,
      "outputs": [
        {
          "output_type": "execute_result",
          "data": {
            "text/plain": [
              "(1000, 3200)"
            ]
          },
          "metadata": {
            "tags": []
          },
          "execution_count": 59
        }
      ]
    },
    {
      "cell_type": "markdown",
      "metadata": {
        "id": "vb8_CN1C11bB",
        "colab_type": "text"
      },
      "source": [
        "## Visualization\n",
        "Only imagination limits us in the way we can visualize the results generated."
      ]
    },
    {
      "cell_type": "code",
      "metadata": {
        "id": "ibYq88w91v4W",
        "colab_type": "code",
        "colab": {
          "base_uri": "https://localhost:8080/",
          "height": 72
        },
        "outputId": "d138d732-0d78-4c0c-efdf-46f0913127ef"
      },
      "source": [
        "%matplotlib inline\n",
        "import matplotlib\n",
        "import seaborn as sns\n",
        "from matplotlib import gridspec, colors, colorbar, patches, lines\n",
        "import matplotlib.pyplot as plt"
      ],
      "execution_count": 60,
      "outputs": [
        {
          "output_type": "stream",
          "text": [
            "/usr/local/lib/python3.6/dist-packages/statsmodels/tools/_testing.py:19: FutureWarning: pandas.util.testing is deprecated. Use the functions in the public API at pandas.testing instead.\n",
            "  import pandas.util.testing as tm\n"
          ],
          "name": "stderr"
        }
      ]
    },
    {
      "cell_type": "markdown",
      "metadata": {
        "id": "zJRH0Q6f17cU",
        "colab_type": "text"
      },
      "source": [
        "We can plot the overall distribution of values for all generated signatures, and appreciate their bimodal distribution."
      ]
    },
    {
      "cell_type": "code",
      "metadata": {
        "id": "KHPBRfiq14rI",
        "colab_type": "code",
        "colab": {
          "base_uri": "https://localhost:8080/",
          "height": 286
        },
        "outputId": "bd6ab4f1-ae29-4edf-e649-5c5d5f16afed"
      },
      "source": [
        "sns.distplot(result.signature.ravel())"
      ],
      "execution_count": 75,
      "outputs": [
        {
          "output_type": "execute_result",
          "data": {
            "text/plain": [
              "<matplotlib.axes._subplots.AxesSubplot at 0x7fab10dccfd0>"
            ]
          },
          "metadata": {
            "tags": []
          },
          "execution_count": 75
        },
        {
          "output_type": "display_data",
          "data": {
            "image/png": "[encoded data removed]",
            "text/plain": [
              "<Figure size 432x288 with 1 Axes>"
            ]
          },
          "metadata": {
            "tags": [],
            "needs_background": "light"
          }
        }
      ]
    },
    {
      "cell_type": "markdown",
      "metadata": {
        "id": "VM6cuYsV2Brp",
        "colab_type": "text"
      },
      "source": [
        "Or we can take a peek at the raw matrix."
      ]
    },
    {
      "cell_type": "code",
      "metadata": {
        "id": "1KUGTeLS19-k",
        "colab_type": "code",
        "colab": {
          "base_uri": "https://localhost:8080/",
          "height": 173
        },
        "outputId": "b3e54a2a-3bbe-456f-860d-52326d0a12b4"
      },
      "source": [
        "plt.imshow(result.signature)"
      ],
      "execution_count": 69,
      "outputs": [
        {
          "output_type": "execute_result",
          "data": {
            "text/plain": [
              "<matplotlib.image.AxesImage at 0x7fab10ef65c0>"
            ]
          },
          "metadata": {
            "tags": []
          },
          "execution_count": 69
        },
        {
          "output_type": "display_data",
          "data": {
            "image/png": "[encoded data removed]",
            "text/plain": [
              "<Figure size 432x288 with 1 Axes>"
            ]
          },
          "metadata": {
            "tags": [],
            "needs_background": "light"
          }
        }
      ]
    },
    {
      "cell_type": "markdown",
      "metadata": {
        "id": "MdAJjHDY2KxJ",
        "colab_type": "text"
      },
      "source": [
        "The signatures we generated have 3200 dimensions but looking at the raw data does not inform us on how similar/different are our molecules.\n",
        "\n",
        "In Cheminformatics we often need a graphical representation of the chemical space covered by a set of molecules.  In this representation, similar molecules will be close and molecules that are different will be far apart.\n",
        "\n",
        "We can use scikit-learn to create a lower bi-dimensional representation which will enable such visualization."
      ]
    },
    {
      "cell_type": "code",
      "metadata": {
        "id": "VhPVjLAa2EP6",
        "colab_type": "code",
        "colab": {
          "base_uri": "https://localhost:8080/",
          "height": 416
        },
        "outputId": "12a35524-8d53-4552-8f1b-c1b33b843cf1"
      },
      "source": [
        "from sklearn.manifold import TSNE\n",
        "from sklearn.decomposition import PCA\n",
        "pca = PCA(n_components=128)\n",
        "pca_red = pca.fit_transform(result.signature)\n",
        "print(pca.explained_variance_ratio_)\n",
        "print(np.sum(pca.explained_variance_ratio_))\n",
        "projection = TSNE(n_components=2).fit_transform(pca_red)"
      ],
      "execution_count": 78,
      "outputs": [
        {
          "output_type": "stream",
          "text": [
            "[0.10417921 0.08004259 0.06692837 0.04852602 0.03324907 0.02638526\n",
            " 0.02229846 0.01863312 0.01653567 0.01554155 0.01373367 0.01246278\n",
            " 0.01098571 0.01019005 0.00938032 0.00887351 0.00844772 0.00798114\n",
            " 0.0076312  0.00751706 0.00679071 0.00634327 0.00622115 0.00604009\n",
            " 0.0059477  0.0057557  0.00556485 0.00526814 0.00524928 0.00505198\n",
            " 0.00485501 0.00474085 0.00463863 0.00438354 0.00436027 0.00425099\n",
            " 0.00416077 0.00401419 0.00392306 0.00377913 0.00366456 0.0036026\n",
            " 0.00337257 0.00336085 0.00322581 0.00316123 0.0030729  0.00303594\n",
            " 0.00298053 0.00290556 0.00285874 0.00279449 0.00278613 0.00270652\n",
            " 0.00269554 0.0026104  0.00258421 0.00252929 0.00247232 0.00244423\n",
            " 0.00237974 0.00237063 0.00231521 0.00224086 0.00222601 0.00220988\n",
            " 0.00216253 0.00211995 0.00208518 0.00206144 0.00204821 0.00203671\n",
            " 0.00200755 0.00199438 0.00198317 0.00194525 0.0019188  0.00189158\n",
            " 0.00188579 0.00184639 0.00181501 0.0017994  0.00177473 0.001758\n",
            " 0.00175676 0.00173211 0.00169041 0.00166912 0.0016465  0.00163561\n",
            " 0.00161642 0.00159603 0.0015926  0.00156275 0.00154807 0.00153786\n",
            " 0.00151173 0.00149901 0.00147712 0.00146989 0.0014568  0.00143961\n",
            " 0.00143485 0.00141009 0.00139781 0.00139187 0.00137326 0.00137098\n",
            " 0.00135552 0.00134007 0.00132649 0.00131417 0.00130163 0.00128993\n",
            " 0.0012714  0.00126624 0.0012521  0.00124859 0.00122597 0.00121176\n",
            " 0.00119545 0.00118171 0.00116733 0.00115844 0.00115204 0.00115082\n",
            " 0.00113907 0.00112226]\n",
            "0.8000909\n"
          ],
          "name": "stdout"
        }
      ]
    },
    {
      "cell_type": "code",
      "metadata": {
        "id": "PubHSuwAEaqk",
        "colab_type": "code",
        "colab": {
          "base_uri": "https://localhost:8080/",
          "height": 34
        },
        "outputId": "bbe6f8db-152f-4ed2-d670-1c9f6e7ae2d2"
      },
      "source": [
        "print(projection.shape)"
      ],
      "execution_count": 79,
      "outputs": [
        {
          "output_type": "stream",
          "text": [
            "(3000, 2)\n"
          ],
          "name": "stdout"
        }
      ]
    },
    {
      "cell_type": "code",
      "metadata": {
        "id": "BhOw47IB2WQ6",
        "colab_type": "code",
        "colab": {
          "base_uri": "https://localhost:8080/",
          "height": 285
        },
        "outputId": "98ebf5a3-86aa-4640-eb04-a8e73a5768f6"
      },
      "source": [
        "plt.scatter(projection[:,0],projection[:,1], color='grey', alpha=.4)"
      ],
      "execution_count": 80,
      "outputs": [
        {
          "output_type": "execute_result",
          "data": {
            "text/plain": [
              "<matplotlib.collections.PathCollection at 0x7fab10dcc6d8>"
            ]
          },
          "metadata": {
            "tags": []
          },
          "execution_count": 80
        },
        {
          "output_type": "display_data",
          "data": {
            "image/png": "[encoded data removed]",
            "text/plain": [
              "<Figure size 432x288 with 1 Axes>"
            ]
          },
          "metadata": {
            "tags": [],
            "needs_background": "light"
          }
        }
      ]
    },
    {
      "cell_type": "markdown",
      "metadata": {
        "id": "YdFc6ir02c6k",
        "colab_type": "text"
      },
      "source": [
        "Now we can appreciate the diversity of our molecules and also that they are 'organized' with some form of structure. We can annotate molecules with the food of origin to highlight this structure.\n",
        "\n",
        "For example let's color all molecules coming from animal origin (i.e. meat):"
      ]
    },
    {
      "cell_type": "code",
      "metadata": {
        "id": "rmGJXIqY2Y9n",
        "colab_type": "code",
        "colab": {
          "base_uri": "https://localhost:8080/",
          "height": 285
        },
        "outputId": "a55554ac-514b-4377-c3d1-dbc88e24106b"
      },
      "source": [
        "cat_smiles = df[df.food_group == 'Animal foods'].SMILES.unique()\n",
        "cat_mask = np.isin(subsample, cat_smiles)\n",
        "plt.scatter(projection[:,0],projection[:,1], color='lightgrey', alpha=.2)\n",
        "plt.scatter(projection[:,0][cat_mask],projection[:,1][cat_mask], color='red', alpha=0.2)"
      ],
      "execution_count": 81,
      "outputs": [
        {
          "output_type": "execute_result",
          "data": {
            "text/plain": [
              "<matplotlib.collections.PathCollection at 0x7fab174334a8>"
            ]
          },
          "metadata": {
            "tags": []
          },
          "execution_count": 81
        },
        {
          "output_type": "display_data",
          "data": {
            "image/png": "[encoded data removed]",
            "text/plain": [
              "<Figure size 432x288 with 1 Axes>"
            ]
          },
          "metadata": {
            "tags": [],
            "needs_background": "light"
          }
        }
      ]
    },
    {
      "cell_type": "markdown",
      "metadata": {
        "id": "nvUr_fOL2jVB",
        "colab_type": "text"
      },
      "source": [
        "We clearly see that molecules from this food source are localized in two clusers of our bioactivity space.\n",
        "\n",
        "If we go for compounds of vegetable orgin we can see, as expectable, that the two set of molecules do not overlap."
      ]
    },
    {
      "cell_type": "code",
      "metadata": {
        "id": "LrDzqFA02e7I",
        "colab_type": "code",
        "colab": {
          "base_uri": "https://localhost:8080/",
          "height": 282
        },
        "outputId": "c4f3027b-6dbf-4f6c-d374-704272e53798"
      },
      "source": [
        "cat_smiles = df[df.food_group == 'Vegetables'].SMILES.unique()\n",
        "cat_mask = np.isin(subsample, cat_smiles)\n",
        "plt.scatter(projection[:,0],projection[:,1], color='lightgrey', alpha=.2)\n",
        "plt.scatter(projection[:,0][cat_mask],projection[:,1][cat_mask], color='green', alpha=0.2)"
      ],
      "execution_count": 73,
      "outputs": [
        {
          "output_type": "execute_result",
          "data": {
            "text/plain": [
              "<matplotlib.collections.PathCollection at 0x7fab1275bba8>"
            ]
          },
          "metadata": {
            "tags": []
          },
          "execution_count": 73
        },
        {
          "output_type": "display_data",
          "data": {
            "image/png": "[encoded data removed]",
            "text/plain": [
              "<Figure size 432x288 with 1 Axes>"
            ]
          },
          "metadata": {
            "tags": [],
            "needs_background": "light"
          }
        }
      ]
    },
    {
      "cell_type": "code",
      "metadata": {
        "id": "O63aNP4D2mkt",
        "colab_type": "code",
        "colab": {}
      },
      "source": [
        ""
      ],
      "execution_count": null,
      "outputs": []
    }
  ]
}